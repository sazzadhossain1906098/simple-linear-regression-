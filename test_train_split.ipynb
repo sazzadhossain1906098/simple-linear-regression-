{
  "nbformat": 4,
  "nbformat_minor": 0,
  "metadata": {
    "colab": {
      "provenance": [],
      "authorship_tag": "ABX9TyOCS47SQYHsA1CJnUWX9m8y",
      "include_colab_link": true
    },
    "kernelspec": {
      "name": "python3",
      "display_name": "Python 3"
    },
    "language_info": {
      "name": "python"
    }
  },
  "cells": [
    {
      "cell_type": "markdown",
      "metadata": {
        "id": "view-in-github",
        "colab_type": "text"
      },
      "source": [
        "<a href=\"https://colab.research.google.com/github/sazzadhossain1906098/simple-linear-regression-/blob/main/test_train_split.ipynb\" target=\"_parent\"><img src=\"https://colab.research.google.com/assets/colab-badge.svg\" alt=\"Open In Colab\"/></a>"
      ]
    },
    {
      "cell_type": "code",
      "execution_count": 38,
      "metadata": {
        "colab": {
          "base_uri": "https://localhost:8080/"
        },
        "id": "cbyZT0Jj_5yY",
        "outputId": "ac92558e-eb89-4f2b-d5d8-c1f762cebeab"
      },
      "outputs": [
        {
          "output_type": "stream",
          "name": "stdout",
          "text": [
            "   Mileage  Age(yrs)  Sell Price($)\n",
            "0    69000         6          18000\n",
            "1    35000         3          34000\n",
            "2    57000         5          26100\n",
            "3    22500         2          40000\n",
            "4    46000         4          31500\n"
          ]
        }
      ],
      "source": [
        "import pandas as pd\n",
        "import numpy as np\n",
        "import matplotlib.pyplot as plt\n",
        "from sklearn import linear_model\n",
        "\n",
        "df=pd.read_csv(\"/content/carprices.csv\")\n",
        "print(df.head())"
      ]
    },
    {
      "cell_type": "code",
      "source": [
        "import sklearn.model_selection as model_selection\n",
        "\n",
        "from sklearn import model_selection\n",
        "X = df[['Mileage', 'Age(yrs)']]\n",
        "y = df[['Sell Price($)']]\n",
        "X_train, X_test, y_train, y_test = model_selection.train_test_split(X, y, test_size=0.2)\n",
        "print(X_train)"
      ],
      "metadata": {
        "colab": {
          "base_uri": "https://localhost:8080/"
        },
        "id": "zer1_fPBCJ6B",
        "outputId": "cf181bc5-3f9b-4bce-9436-9ba5cf1bc9ce"
      },
      "execution_count": 39,
      "outputs": [
        {
          "output_type": "stream",
          "name": "stdout",
          "text": [
            "    Mileage  Age(yrs)\n",
            "15    25400         3\n",
            "18    87600         8\n",
            "4     46000         4\n",
            "19    52000         5\n",
            "5     59000         5\n",
            "9     67000         6\n",
            "0     69000         6\n",
            "11    79000         7\n",
            "8     91000         8\n",
            "1     35000         3\n",
            "13    58780         4\n",
            "3     22500         2\n",
            "14    82450         7\n",
            "10    83000         7\n",
            "17    69000         5\n",
            "2     57000         5\n"
          ]
        }
      ]
    },
    {
      "cell_type": "code",
      "source": [
        "reg=linear_model.LinearRegression()\n",
        "reg.fit(X_train,y_train)\n",
        "reg.predict(X_test)\n"
      ],
      "metadata": {
        "colab": {
          "base_uri": "https://localhost:8080/"
        },
        "id": "JrATusNRFB9_",
        "outputId": "7edea053-8888-46ac-bf61-502ffeb2af2f"
      },
      "execution_count": 40,
      "outputs": [
        {
          "output_type": "execute_result",
          "data": {
            "text/plain": [
              "array([[25495.57432587],\n",
              "       [20819.26773714],\n",
              "       [37434.31800037],\n",
              "       [27324.47840612]])"
            ]
          },
          "metadata": {},
          "execution_count": 40
        }
      ]
    },
    {
      "cell_type": "code",
      "source": [
        "print(y_test)"
      ],
      "metadata": {
        "colab": {
          "base_uri": "https://localhost:8080/"
        },
        "id": "v7bkuZMwGFVP",
        "outputId": "610a2527-d26e-45cc-be97-12ae1fb99454"
      },
      "execution_count": 41,
      "outputs": [
        {
          "output_type": "stream",
          "name": "stdout",
          "text": [
            "    Sell Price($)\n",
            "12          26000\n",
            "7           19300\n",
            "16          35500\n",
            "6           32000\n"
          ]
        }
      ]
    },
    {
      "cell_type": "code",
      "source": [
        "reg.score(X_test,y_test)"
      ],
      "metadata": {
        "colab": {
          "base_uri": "https://localhost:8080/"
        },
        "id": "u3eYW0LaG9dN",
        "outputId": "bb8bc7e4-2dab-4323-ba65-889e38d77f3e"
      },
      "execution_count": 42,
      "outputs": [
        {
          "output_type": "execute_result",
          "data": {
            "text/plain": [
              "0.8144372906887609"
            ]
          },
          "metadata": {},
          "execution_count": 42
        }
      ]
    }
  ]
}